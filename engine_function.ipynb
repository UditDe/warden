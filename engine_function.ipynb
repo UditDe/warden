{
 "cells": [
  {
   "metadata": {
    "ExecuteTime": {
     "end_time": "2025-06-07T07:00:14.510524Z",
     "start_time": "2025-06-07T07:00:14.506110Z"
    }
   },
   "cell_type": "code",
   "source": [
    "import wikipedia\n",
    "from sentence_transformers import SentenceTransformer\n",
    "import requests"
   ],
   "id": "77a7e0531a83a020",
   "outputs": [],
   "execution_count": 18
  },
  {
   "metadata": {
    "ExecuteTime": {
     "end_time": "2025-06-07T07:00:20.725874Z",
     "start_time": "2025-06-07T07:00:15.226325Z"
    }
   },
   "cell_type": "code",
   "source": [
    "# Initialize the model\n",
    "model = SentenceTransformer('all-MiniLM-L6-v2')\n",
    "wikipedia.set_lang(\"en\")"
   ],
   "id": "6a7f38acfb4837a0",
   "outputs": [],
   "execution_count": 19
  },
  {
   "metadata": {
    "ExecuteTime": {
     "end_time": "2025-06-07T07:00:20.746191Z",
     "start_time": "2025-06-07T07:00:20.742335Z"
    }
   },
   "cell_type": "code",
   "source": [
    "# Get info from Wikipedia\n",
    "def get_animal_info(animal_name):\n",
    "    try:\n",
    "        return wikipedia.summary(animal_name, sentences=5)\n",
    "    except Exception as e:\n",
    "        return f\"❌ Wikipedia error: {e}\""
   ],
   "id": "578f9e14d511aa14",
   "outputs": [],
   "execution_count": 20
  },
  {
   "metadata": {
    "ExecuteTime": {
     "end_time": "2025-06-07T07:00:29.687304Z",
     "start_time": "2025-06-07T07:00:29.683781Z"
    }
   },
   "cell_type": "code",
   "source": [
    "# Send query to local LLM (ollama)\n",
    "def ask_llm(question, context):\n",
    "    prompt = f\"Context:\\n{context}\\n\\nAnswer this question about animals: {question}\"\n",
    "\n",
    "    try:\n",
    "        response = requests.post(\n",
    "            \"http://localhost:11434/api/generate\",\n",
    "            json={\"model\": \"mistral\", \"prompt\": prompt, \"stream\": False},\n",
    "            timeout=60\n",
    "        )\n",
    "        data = response.json()\n",
    "        return data[\"response\"] if \"response\" in data else str(data)\n",
    "    except Exception as e:\n",
    "        return f\"❌ Request failed: {e}\""
   ],
   "id": "752926a1a4400ae8",
   "outputs": [],
   "execution_count": 21
  },
  {
   "metadata": {
    "ExecuteTime": {
     "end_time": "2025-06-07T07:07:13.149350Z",
     "start_time": "2025-06-07T07:07:13.145521Z"
    }
   },
   "cell_type": "code",
   "source": [
    "def search_about_animals():\n",
    "    # Get user query\n",
    "    query = input(\"Ask about an animal: \")\n",
    "\n",
    "    # Get dynamic context from Wikipedia\n",
    "    animal_context = get_animal_info(query)\n",
    "\n",
    "    # Send to LLM for intelligent answer\n",
    "    answer = ask_llm(query, animal_context)\n",
    "\n",
    "    # Output\n",
    "    print(f\"\\nContext:\\n{animal_context}\\n\")\n",
    "    print(f\"\\nAnswer:\\n{answer}\")\n"
   ],
   "id": "2ffba01c3a208097",
   "outputs": [],
   "execution_count": 24
  },
  {
   "metadata": {
    "ExecuteTime": {
     "end_time": "2025-06-07T07:07:55.146837Z",
     "start_time": "2025-06-07T07:07:15.344354Z"
    }
   },
   "cell_type": "code",
   "source": "search_about_animals()",
   "id": "498f833c6346a772",
   "outputs": [
    {
     "name": "stdout",
     "output_type": "stream",
     "text": [
      "\n",
      "Context:\n",
      "Tigerfish can refer to fish from various families, and derives from official and colloquial associations of these with the tiger (Panthera tigris). However, the primary species designated by the name \"tigerfish\" are African and belong to the family Alestidae.\n",
      "\n",
      "\n",
      "== African tigerfish ==\n",
      "\n",
      "Several species belonging to the genus Hydrocynus of the family Alestidae are referred to as \"tigerfish\", and are particularly prized as game fish. These African fish are found in many rivers and lakes on the continent and are fierce predators with distinctive, proportionally large teeth.\n",
      "The goliath tigerfish (Hydrocynus goliath) is among the most famous tigerfish.\n",
      "\n",
      "\n",
      "Answer:\n",
      " The term \"tigerfish\" mainly refers to several species belonging to the genus Hydrocynus of the family Alestidae, which are African fish. They are particularly prized as game fish and are known for their fierce predator nature and distinctive large teeth. One notable species is the goliath tigerfish (Hydrocynus goliath).\n"
     ]
    }
   ],
   "execution_count": 25
  },
  {
   "metadata": {},
   "cell_type": "code",
   "outputs": [],
   "execution_count": null,
   "source": " ",
   "id": "a3fda712bf024ee8"
  }
 ],
 "metadata": {
  "kernelspec": {
   "display_name": "Python 3",
   "language": "python",
   "name": "python3"
  },
  "language_info": {
   "codemirror_mode": {
    "name": "ipython",
    "version": 2
   },
   "file_extension": ".py",
   "mimetype": "text/x-python",
   "name": "python",
   "nbconvert_exporter": "python",
   "pygments_lexer": "ipython2",
   "version": "2.7.6"
  }
 },
 "nbformat": 4,
 "nbformat_minor": 5
}
